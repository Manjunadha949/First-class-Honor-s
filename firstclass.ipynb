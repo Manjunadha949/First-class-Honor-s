{
 "cells": [
  {
   "cell_type": "markdown",
   "id": "c9daefcc",
   "metadata": {},
   "source": [
    "name='Manju'"
   ]
  },
  {
   "cell_type": "code",
   "execution_count": 19,
   "id": "dc696697",
   "metadata": {},
   "outputs": [],
   "source": [
    "name='Manju'"
   ]
  },
  {
   "cell_type": "code",
   "execution_count": 20,
   "id": "f323e8f8",
   "metadata": {},
   "outputs": [
    {
     "data": {
      "text/plain": [
       "str"
      ]
     },
     "execution_count": 20,
     "metadata": {},
     "output_type": "execute_result"
    }
   ],
   "source": [
    "type(name)"
   ]
  },
  {
   "cell_type": "code",
   "execution_count": 21,
   "id": "d46ca6a9",
   "metadata": {},
   "outputs": [],
   "source": [
    "a=30"
   ]
  },
  {
   "cell_type": "code",
   "execution_count": 22,
   "id": "aafc0cd8",
   "metadata": {},
   "outputs": [
    {
     "data": {
      "text/plain": [
       "int"
      ]
     },
     "execution_count": 22,
     "metadata": {},
     "output_type": "execute_result"
    }
   ],
   "source": [
    "type(a)"
   ]
  },
  {
   "cell_type": "code",
   "execution_count": 23,
   "id": "3c214850",
   "metadata": {},
   "outputs": [
    {
     "data": {
      "text/plain": [
       "float"
      ]
     },
     "execution_count": 23,
     "metadata": {},
     "output_type": "execute_result"
    }
   ],
   "source": [
    "a=50.78\n",
    "type(a)"
   ]
  },
  {
   "cell_type": "code",
   "execution_count": 24,
   "id": "e3682f32",
   "metadata": {},
   "outputs": [
    {
     "data": {
      "text/plain": [
       "complex"
      ]
     },
     "execution_count": 24,
     "metadata": {},
     "output_type": "execute_result"
    }
   ],
   "source": [
    "n=5+8j\n",
    "type(n)"
   ]
  },
  {
   "cell_type": "code",
   "execution_count": 27,
   "id": "e9b1a935",
   "metadata": {},
   "outputs": [
    {
     "ename": "SyntaxError",
     "evalue": "invalid syntax (4028372266.py, line 1)",
     "output_type": "error",
     "traceback": [
      "\u001b[1;36m  Input \u001b[1;32mIn [27]\u001b[1;36m\u001b[0m\n\u001b[1;33m    n=5+6k\u001b[0m\n\u001b[1;37m         ^\u001b[0m\n\u001b[1;31mSyntaxError\u001b[0m\u001b[1;31m:\u001b[0m invalid syntax\n"
     ]
    }
   ],
   "source": [
    "n=5+6k\n",
    "type(n)"
   ]
  },
  {
   "cell_type": "code",
   "execution_count": 28,
   "id": "d8bc6f7c",
   "metadata": {},
   "outputs": [
    {
     "data": {
      "text/plain": [
       "(10+16j)"
      ]
     },
     "execution_count": 28,
     "metadata": {},
     "output_type": "execute_result"
    }
   ],
   "source": [
    "n+n"
   ]
  },
  {
   "cell_type": "code",
   "execution_count": 29,
   "id": "7961b56d",
   "metadata": {},
   "outputs": [
    {
     "data": {
      "text/plain": [
       "(1+0j)"
      ]
     },
     "execution_count": 29,
     "metadata": {},
     "output_type": "execute_result"
    }
   ],
   "source": [
    "n/n"
   ]
  },
  {
   "cell_type": "code",
   "execution_count": 30,
   "id": "c0ecb158",
   "metadata": {},
   "outputs": [
    {
     "data": {
      "text/plain": [
       "(-39+80j)"
      ]
     },
     "execution_count": 30,
     "metadata": {},
     "output_type": "execute_result"
    }
   ],
   "source": [
    "n*n"
   ]
  },
  {
   "cell_type": "code",
   "execution_count": 31,
   "id": "63a99bf5",
   "metadata": {},
   "outputs": [
    {
     "ename": "NameError",
     "evalue": "name 'BOOLEAN' is not defined",
     "output_type": "error",
     "traceback": [
      "\u001b[1;31m---------------------------------------------------------------------------\u001b[0m",
      "\u001b[1;31mNameError\u001b[0m                                 Traceback (most recent call last)",
      "Input \u001b[1;32mIn [31]\u001b[0m, in \u001b[0;36m<cell line: 1>\u001b[1;34m()\u001b[0m\n\u001b[1;32m----> 1\u001b[0m \u001b[43mBOOLEAN\u001b[49m\n",
      "\u001b[1;31mNameError\u001b[0m: name 'BOOLEAN' is not defined"
     ]
    }
   ],
   "source": [
    "BOOLEAN\n"
   ]
  },
  {
   "cell_type": "code",
   "execution_count": 32,
   "id": "54eba20f",
   "metadata": {},
   "outputs": [
    {
     "ename": "SyntaxError",
     "evalue": "invalid syntax (184361434.py, line 1)",
     "output_type": "error",
     "traceback": [
      "\u001b[1;36m  Input \u001b[1;32mIn [32]\u001b[1;36m\u001b[0m\n\u001b[1;33m    boolean 3\u001b[0m\n\u001b[1;37m            ^\u001b[0m\n\u001b[1;31mSyntaxError\u001b[0m\u001b[1;31m:\u001b[0m invalid syntax\n"
     ]
    }
   ],
   "source": [
    "boolean 3"
   ]
  },
  {
   "cell_type": "code",
   "execution_count": 33,
   "id": "e243e9c0",
   "metadata": {},
   "outputs": [
    {
     "data": {
      "text/plain": [
       "0"
      ]
     },
     "execution_count": 33,
     "metadata": {},
     "output_type": "execute_result"
    }
   ],
   "source": [
    "True-True"
   ]
  },
  {
   "cell_type": "code",
   "execution_count": 34,
   "id": "38ca10ea",
   "metadata": {},
   "outputs": [
    {
     "data": {
      "text/plain": [
       "0"
      ]
     },
     "execution_count": 34,
     "metadata": {},
     "output_type": "execute_result"
    }
   ],
   "source": [
    "False-False"
   ]
  },
  {
   "cell_type": "code",
   "execution_count": 35,
   "id": "90f14b10",
   "metadata": {},
   "outputs": [
    {
     "data": {
      "text/plain": [
       "1"
      ]
     },
     "execution_count": 35,
     "metadata": {},
     "output_type": "execute_result"
    }
   ],
   "source": [
    "True-False"
   ]
  },
  {
   "cell_type": "code",
   "execution_count": 36,
   "id": "3dfd52fe",
   "metadata": {},
   "outputs": [
    {
     "data": {
      "text/plain": [
       "-1"
      ]
     },
     "execution_count": 36,
     "metadata": {},
     "output_type": "execute_result"
    }
   ],
   "source": [
    "False-True"
   ]
  },
  {
   "cell_type": "code",
   "execution_count": 37,
   "id": "18e50692",
   "metadata": {},
   "outputs": [
    {
     "ename": "SyntaxError",
     "evalue": "Missing parentheses in call to 'print'. Did you mean print(n)? (742855832.py, line 1)",
     "output_type": "error",
     "traceback": [
      "\u001b[1;36m  Input \u001b[1;32mIn [37]\u001b[1;36m\u001b[0m\n\u001b[1;33m    print n\u001b[0m\n\u001b[1;37m          ^\u001b[0m\n\u001b[1;31mSyntaxError\u001b[0m\u001b[1;31m:\u001b[0m Missing parentheses in call to 'print'. Did you mean print(n)?\n"
     ]
    }
   ],
   "source": [
    "print n"
   ]
  },
  {
   "cell_type": "code",
   "execution_count": 38,
   "id": "a61efc38",
   "metadata": {},
   "outputs": [
    {
     "ename": "SyntaxError",
     "evalue": "Missing parentheses in call to 'print'. Did you mean print(a)? (2947294964.py, line 1)",
     "output_type": "error",
     "traceback": [
      "\u001b[1;36m  Input \u001b[1;32mIn [38]\u001b[1;36m\u001b[0m\n\u001b[1;33m    print a\u001b[0m\n\u001b[1;37m          ^\u001b[0m\n\u001b[1;31mSyntaxError\u001b[0m\u001b[1;31m:\u001b[0m Missing parentheses in call to 'print'. Did you mean print(a)?\n"
     ]
    }
   ],
   "source": [
    "print a"
   ]
  },
  {
   "cell_type": "code",
   "execution_count": 39,
   "id": "d9434fdf",
   "metadata": {},
   "outputs": [
    {
     "name": "stdout",
     "output_type": "stream",
     "text": [
      "(5+8j)\n"
     ]
    }
   ],
   "source": [
    "print(n)"
   ]
  },
  {
   "cell_type": "code",
   "execution_count": 40,
   "id": "77aa6a39",
   "metadata": {},
   "outputs": [
    {
     "data": {
      "text/plain": [
       "0.0"
      ]
     },
     "execution_count": 40,
     "metadata": {},
     "output_type": "execute_result"
    }
   ],
   "source": [
    "False/True"
   ]
  },
  {
   "cell_type": "code",
   "execution_count": 41,
   "id": "ca1c8ee6",
   "metadata": {},
   "outputs": [
    {
     "ename": "ZeroDivisionError",
     "evalue": "division by zero",
     "output_type": "error",
     "traceback": [
      "\u001b[1;31m---------------------------------------------------------------------------\u001b[0m",
      "\u001b[1;31mZeroDivisionError\u001b[0m                         Traceback (most recent call last)",
      "Input \u001b[1;32mIn [41]\u001b[0m, in \u001b[0;36m<cell line: 1>\u001b[1;34m()\u001b[0m\n\u001b[1;32m----> 1\u001b[0m \u001b[38;5;28;43;01mTrue\u001b[39;49;00m\u001b[38;5;241;43m/\u001b[39;49m\u001b[38;5;28;43;01mFalse\u001b[39;49;00m\n",
      "\u001b[1;31mZeroDivisionError\u001b[0m: division by zero"
     ]
    }
   ],
   "source": [
    "True/False"
   ]
  },
  {
   "cell_type": "code",
   "execution_count": 42,
   "id": "945f5960",
   "metadata": {},
   "outputs": [
    {
     "data": {
      "text/plain": [
       "0"
      ]
     },
     "execution_count": 42,
     "metadata": {},
     "output_type": "execute_result"
    }
   ],
   "source": [
    "False*False"
   ]
  },
  {
   "cell_type": "code",
   "execution_count": 43,
   "id": "c665e245",
   "metadata": {},
   "outputs": [
    {
     "data": {
      "text/plain": [
       "1"
      ]
     },
     "execution_count": 43,
     "metadata": {},
     "output_type": "execute_result"
    }
   ],
   "source": [
    "True*True"
   ]
  },
  {
   "cell_type": "code",
   "execution_count": 44,
   "id": "30512582",
   "metadata": {},
   "outputs": [],
   "source": [
    "name='Manju'\n"
   ]
  },
  {
   "cell_type": "code",
   "execution_count": 45,
   "id": "16cbed7a",
   "metadata": {},
   "outputs": [
    {
     "data": {
      "text/plain": [
       "'Manj'"
      ]
     },
     "execution_count": 45,
     "metadata": {},
     "output_type": "execute_result"
    }
   ],
   "source": [
    "name[0:4]"
   ]
  },
  {
   "cell_type": "code",
   "execution_count": 52,
   "id": "f654d999",
   "metadata": {},
   "outputs": [
    {
     "data": {
      "text/plain": [
       "''"
      ]
     },
     "execution_count": 52,
     "metadata": {},
     "output_type": "execute_result"
    }
   ],
   "source": [
    "name[-1:-2]"
   ]
  },
  {
   "cell_type": "code",
   "execution_count": 53,
   "id": "0e214529",
   "metadata": {},
   "outputs": [
    {
     "data": {
      "text/plain": [
       "'anj'"
      ]
     },
     "execution_count": 53,
     "metadata": {},
     "output_type": "execute_result"
    }
   ],
   "source": [
    "name[-4:-1]"
   ]
  },
  {
   "cell_type": "code",
   "execution_count": 65,
   "id": "0c5deaf1",
   "metadata": {},
   "outputs": [],
   "source": [
    "sen=\"We love coding\""
   ]
  },
  {
   "cell_type": "code",
   "execution_count": 66,
   "id": "0c1e80ee",
   "metadata": {},
   "outputs": [
    {
     "data": {
      "text/plain": [
       "'We love coding'"
      ]
     },
     "execution_count": 66,
     "metadata": {},
     "output_type": "execute_result"
    }
   ],
   "source": [
    "sen"
   ]
  },
  {
   "cell_type": "code",
   "execution_count": 70,
   "id": "96b6a309",
   "metadata": {},
   "outputs": [
    {
     "data": {
      "text/plain": [
       "'ove coding'"
      ]
     },
     "execution_count": 70,
     "metadata": {},
     "output_type": "execute_result"
    }
   ],
   "source": [
    "sen[4:90]"
   ]
  },
  {
   "cell_type": "code",
   "execution_count": 68,
   "id": "0aa4e42c",
   "metadata": {},
   "outputs": [
    {
     "data": {
      "text/plain": [
       "'gio vl'"
      ]
     },
     "execution_count": 68,
     "metadata": {},
     "output_type": "execute_result"
    }
   ],
   "source": [
    "sen[90:2:-2]"
   ]
  },
  {
   "cell_type": "code",
   "execution_count": 69,
   "id": "fe504eba",
   "metadata": {},
   "outputs": [
    {
     "data": {
      "text/plain": [
       "'gio v'"
      ]
     },
     "execution_count": 69,
     "metadata": {},
     "output_type": "execute_result"
    }
   ],
   "source": [
    "sen[-1:-10:-2]"
   ]
  },
  {
   "cell_type": "code",
   "execution_count": 71,
   "id": "6baf4209",
   "metadata": {},
   "outputs": [
    {
     "data": {
      "text/plain": [
       "''"
      ]
     },
     "execution_count": 71,
     "metadata": {},
     "output_type": "execute_result"
    }
   ],
   "source": [
    "sen[-1:-10:2]\n"
   ]
  },
  {
   "cell_type": "code",
   "execution_count": 1,
   "id": "87fb4a78",
   "metadata": {},
   "outputs": [],
   "source": [
    "s = \"this is My First Python programming class and i am learNING python string and its function\""
   ]
  },
  {
   "cell_type": "code",
   "execution_count": 2,
   "id": "e706bccd",
   "metadata": {},
   "outputs": [
    {
     "data": {
      "text/plain": [
       "'h   r tnrrmglsnimeNGyosi dtfco'"
      ]
     },
     "execution_count": 2,
     "metadata": {},
     "output_type": "execute_result"
    }
   ],
   "source": [
    "s[1:300:3]"
   ]
  },
  {
   "cell_type": "code",
   "execution_count": 3,
   "id": "08282ddb",
   "metadata": {},
   "outputs": [
    {
     "data": {
      "text/plain": [
       "'noitcnuf sti dna gnirts nohtyp GNINrael ma i dna ssalc gnimmargorp nohtyP tsriF yM si siht'"
      ]
     },
     "execution_count": 3,
     "metadata": {},
     "output_type": "execute_result"
    }
   ],
   "source": [
    "s[::-1]"
   ]
  },
  {
   "cell_type": "code",
   "execution_count": 11,
   "id": "85bcf38a",
   "metadata": {},
   "outputs": [
    {
     "data": {
      "text/plain": [
       "'Manjunadha'"
      ]
     },
     "execution_count": 11,
     "metadata": {},
     "output_type": "execute_result"
    }
   ],
   "source": [
    "s='Manjunadha'\n",
    "s"
   ]
  },
  {
   "cell_type": "code",
   "execution_count": 16,
   "id": "7b9e98da",
   "metadata": {},
   "outputs": [
    {
     "data": {
      "text/plain": [
       "'u'"
      ]
     },
     "execution_count": 16,
     "metadata": {},
     "output_type": "execute_result"
    }
   ],
   "source": [
    "s[4]"
   ]
  },
  {
   "cell_type": "code",
   "execution_count": 17,
   "id": "252d824b",
   "metadata": {},
   "outputs": [
    {
     "data": {
      "text/plain": [
       "'a'"
      ]
     },
     "execution_count": 17,
     "metadata": {},
     "output_type": "execute_result"
    }
   ],
   "source": [
    "s[-4]"
   ]
  },
  {
   "cell_type": "code",
   "execution_count": 19,
   "id": "2228a8b2",
   "metadata": {},
   "outputs": [
    {
     "ename": "IndexError",
     "evalue": "string index out of range",
     "output_type": "error",
     "traceback": [
      "\u001b[1;31m---------------------------------------------------------------------------\u001b[0m",
      "\u001b[1;31mIndexError\u001b[0m                                Traceback (most recent call last)",
      "Input \u001b[1;32mIn [19]\u001b[0m, in \u001b[0;36m<cell line: 1>\u001b[1;34m()\u001b[0m\n\u001b[1;32m----> 1\u001b[0m \u001b[43ms\u001b[49m\u001b[43m[\u001b[49m\u001b[38;5;241;43m200\u001b[39;49m\u001b[43m]\u001b[49m\n",
      "\u001b[1;31mIndexError\u001b[0m: string index out of range"
     ]
    }
   ],
   "source": [
    "s[200]"
   ]
  },
  {
   "cell_type": "code",
   "execution_count": 23,
   "id": "1e76f807",
   "metadata": {},
   "outputs": [
    {
     "data": {
      "text/plain": [
       "'Manjunadha1'"
      ]
     },
     "execution_count": 23,
     "metadata": {},
     "output_type": "execute_result"
    }
   ],
   "source": [
    "s+'1'"
   ]
  },
  {
   "cell_type": "code",
   "execution_count": 28,
   "id": "9656dbb1",
   "metadata": {},
   "outputs": [
    {
     "data": {
      "text/plain": [
       "'ManjunadhaManjunadha'"
      ]
     },
     "execution_count": 28,
     "metadata": {},
     "output_type": "execute_result"
    }
   ],
   "source": [
    "s+s"
   ]
  },
  {
   "cell_type": "code",
   "execution_count": 35,
   "id": "9986f1d3",
   "metadata": {},
   "outputs": [
    {
     "data": {
      "text/plain": [
       "'Manunadha Mallina'"
      ]
     },
     "execution_count": 35,
     "metadata": {},
     "output_type": "execute_result"
    }
   ],
   "source": [
    "\"Manunadha\"+\" \"+\"Mallina\""
   ]
  },
  {
   "cell_type": "code",
   "execution_count": 37,
   "id": "d6fa0149",
   "metadata": {},
   "outputs": [
    {
     "data": {
      "text/plain": [
       "'Manjunadha1'"
      ]
     },
     "execution_count": 37,
     "metadata": {},
     "output_type": "execute_result"
    }
   ],
   "source": [
    "s+str(1)"
   ]
  },
  {
   "cell_type": "code",
   "execution_count": 39,
   "id": "9a282937",
   "metadata": {},
   "outputs": [
    {
     "data": {
      "text/plain": [
       "'Manjunadh'"
      ]
     },
     "execution_count": 39,
     "metadata": {},
     "output_type": "execute_result"
    }
   ],
   "source": [
    "s[0:9]"
   ]
  },
  {
   "cell_type": "code",
   "execution_count": 43,
   "id": "183a6678",
   "metadata": {},
   "outputs": [
    {
     "data": {
      "text/plain": [
       "'Manju'"
      ]
     },
     "execution_count": 43,
     "metadata": {},
     "output_type": "execute_result"
    }
   ],
   "source": [
    "s[0:5]"
   ]
  },
  {
   "cell_type": "code",
   "execution_count": 52,
   "id": "1ef439e2",
   "metadata": {},
   "outputs": [
    {
     "data": {
      "text/plain": [
       "''"
      ]
     },
     "execution_count": 52,
     "metadata": {},
     "output_type": "execute_result"
    }
   ],
   "source": [
    "s[-1:-10]"
   ]
  },
  {
   "cell_type": "code",
   "execution_count": 54,
   "id": "0e69e0b9",
   "metadata": {},
   "outputs": [
    {
     "data": {
      "text/plain": [
       "'Manjunadh'"
      ]
     },
     "execution_count": 54,
     "metadata": {},
     "output_type": "execute_result"
    }
   ],
   "source": [
    "s[-10:-1]"
   ]
  },
  {
   "cell_type": "code",
   "execution_count": 56,
   "id": "aa1752e2",
   "metadata": {},
   "outputs": [
    {
     "data": {
      "text/plain": [
       "'junad'"
      ]
     },
     "execution_count": 56,
     "metadata": {},
     "output_type": "execute_result"
    }
   ],
   "source": [
    "s[3:-2]"
   ]
  },
  {
   "cell_type": "code",
   "execution_count": 58,
   "id": "7c9ff60b",
   "metadata": {},
   "outputs": [
    {
     "data": {
      "text/plain": [
       "'anj'"
      ]
     },
     "execution_count": 58,
     "metadata": {},
     "output_type": "execute_result"
    }
   ],
   "source": [
    "s[1:-6]"
   ]
  },
  {
   "cell_type": "code",
   "execution_count": 60,
   "id": "6569b39e",
   "metadata": {},
   "outputs": [
    {
     "data": {
      "text/plain": [
       "'Manjunadh'"
      ]
     },
     "execution_count": 60,
     "metadata": {},
     "output_type": "execute_result"
    }
   ],
   "source": [
    "s[0:-1]"
   ]
  },
  {
   "cell_type": "code",
   "execution_count": 62,
   "id": "ef4fdd9f",
   "metadata": {},
   "outputs": [
    {
     "data": {
      "text/plain": [
       "'Manjunadha'"
      ]
     },
     "execution_count": 62,
     "metadata": {},
     "output_type": "execute_result"
    }
   ],
   "source": [
    "s[:]"
   ]
  },
  {
   "cell_type": "code",
   "execution_count": 64,
   "id": "d004ed36",
   "metadata": {},
   "outputs": [
    {
     "data": {
      "text/plain": [
       "''"
      ]
     },
     "execution_count": 64,
     "metadata": {},
     "output_type": "execute_result"
    }
   ],
   "source": [
    "s[0:9:-1]"
   ]
  },
  {
   "cell_type": "code",
   "execution_count": 66,
   "id": "43d7de51",
   "metadata": {},
   "outputs": [
    {
     "data": {
      "text/plain": [
       "'Mnuah'"
      ]
     },
     "execution_count": 66,
     "metadata": {},
     "output_type": "execute_result"
    }
   ],
   "source": [
    "s[0:9:2]"
   ]
  },
  {
   "cell_type": "code",
   "execution_count": 69,
   "id": "61575720",
   "metadata": {},
   "outputs": [
    {
     "data": {
      "text/plain": [
       "'Mnuah'"
      ]
     },
     "execution_count": 69,
     "metadata": {},
     "output_type": "execute_result"
    }
   ],
   "source": [
    "s[0:9:2]\n"
   ]
  },
  {
   "cell_type": "code",
   "execution_count": 71,
   "id": "0dba08d4",
   "metadata": {},
   "outputs": [
    {
     "data": {
      "text/plain": [
       "''"
      ]
     },
     "execution_count": 71,
     "metadata": {},
     "output_type": "execute_result"
    }
   ],
   "source": [
    "s[10:-1:-2]"
   ]
  },
  {
   "cell_type": "code",
   "execution_count": 75,
   "id": "b01eff3b",
   "metadata": {},
   "outputs": [
    {
     "data": {
      "text/plain": [
       "3"
      ]
     },
     "execution_count": 75,
     "metadata": {},
     "output_type": "execute_result"
    }
   ],
   "source": [
    "s.count(\"a\")"
   ]
  },
  {
   "cell_type": "code",
   "execution_count": 77,
   "id": "99c8aa74",
   "metadata": {},
   "outputs": [
    {
     "data": {
      "text/plain": [
       "1"
      ]
     },
     "execution_count": 77,
     "metadata": {},
     "output_type": "execute_result"
    }
   ],
   "source": [
    "s.count(\"j\")"
   ]
  },
  {
   "cell_type": "code",
   "execution_count": 78,
   "id": "de280557",
   "metadata": {},
   "outputs": [
    {
     "data": {
      "text/plain": [
       "['M', 'njun', 'dh', '']"
      ]
     },
     "execution_count": 78,
     "metadata": {},
     "output_type": "execute_result"
    }
   ],
   "source": [
    "s.split(\"a\")"
   ]
  },
  {
   "cell_type": "code",
   "execution_count": 80,
   "id": "0b5a5066",
   "metadata": {},
   "outputs": [
    {
     "data": {
      "text/plain": [
       "['Man', 'unadha']"
      ]
     },
     "execution_count": 80,
     "metadata": {},
     "output_type": "execute_result"
    }
   ],
   "source": [
    "s.split(\"j\")"
   ]
  },
  {
   "cell_type": "code",
   "execution_count": 82,
   "id": "f508b782",
   "metadata": {},
   "outputs": [
    {
     "data": {
      "text/plain": [
       "['Ma', 'ju', 'adha']"
      ]
     },
     "execution_count": 82,
     "metadata": {},
     "output_type": "execute_result"
    }
   ],
   "source": [
    "s.split(\"n\")"
   ]
  },
  {
   "cell_type": "code",
   "execution_count": 84,
   "id": "17f44a3a",
   "metadata": {},
   "outputs": [
    {
     "data": {
      "text/plain": [
       "'MANJUNADHA'"
      ]
     },
     "execution_count": 84,
     "metadata": {},
     "output_type": "execute_result"
    }
   ],
   "source": [
    "s.upper()"
   ]
  },
  {
   "cell_type": "code",
   "execution_count": 86,
   "id": "b03a19f2",
   "metadata": {},
   "outputs": [
    {
     "data": {
      "text/plain": [
       "'manjunadha'"
      ]
     },
     "execution_count": 86,
     "metadata": {},
     "output_type": "execute_result"
    }
   ],
   "source": [
    "s.lower()"
   ]
  },
  {
   "cell_type": "code",
   "execution_count": 88,
   "id": "97db3fd7",
   "metadata": {},
   "outputs": [
    {
     "data": {
      "text/plain": [
       "'Manjunadha'"
      ]
     },
     "execution_count": 88,
     "metadata": {},
     "output_type": "execute_result"
    }
   ],
   "source": [
    "s.title()"
   ]
  },
  {
   "cell_type": "code",
   "execution_count": 89,
   "id": "8a297350",
   "metadata": {},
   "outputs": [],
   "source": [
    "s2='jayasree cjalla'"
   ]
  },
  {
   "cell_type": "code",
   "execution_count": 91,
   "id": "e60290e8",
   "metadata": {},
   "outputs": [
    {
     "data": {
      "text/plain": [
       "'Jayasree Cjalla'"
      ]
     },
     "execution_count": 91,
     "metadata": {},
     "output_type": "execute_result"
    }
   ],
   "source": [
    "s2.title()"
   ]
  },
  {
   "cell_type": "code",
   "execution_count": 92,
   "id": "a47c57f3",
   "metadata": {},
   "outputs": [
    {
     "data": {
      "text/plain": [
       "'Jayasree cjalla'"
      ]
     },
     "execution_count": 92,
     "metadata": {},
     "output_type": "execute_result"
    }
   ],
   "source": [
    "s2.capitalize()"
   ]
  },
  {
   "cell_type": "code",
   "execution_count": 93,
   "id": "0159491d",
   "metadata": {},
   "outputs": [],
   "source": [
    "s3='BharGAV'"
   ]
  },
  {
   "cell_type": "code",
   "execution_count": 94,
   "id": "37e65393",
   "metadata": {},
   "outputs": [
    {
     "data": {
      "text/plain": [
       "'bHARgav'"
      ]
     },
     "execution_count": 94,
     "metadata": {},
     "output_type": "execute_result"
    }
   ],
   "source": [
    "s3.swapcase()"
   ]
  },
  {
   "cell_type": "code",
   "execution_count": 95,
   "id": "a3ce40fa",
   "metadata": {},
   "outputs": [],
   "source": [
    "s4=\"  Shahaazad   Ahmed  \""
   ]
  },
  {
   "cell_type": "code",
   "execution_count": 97,
   "id": "7519024c",
   "metadata": {},
   "outputs": [
    {
     "data": {
      "text/plain": [
       "'Shahaazad   Ahmed  '"
      ]
     },
     "execution_count": 97,
     "metadata": {},
     "output_type": "execute_result"
    }
   ],
   "source": [
    "s4.lstrip()"
   ]
  },
  {
   "cell_type": "code",
   "execution_count": 98,
   "id": "f900dc27",
   "metadata": {},
   "outputs": [
    {
     "data": {
      "text/plain": [
       "'  Shahaazad   Ahmed'"
      ]
     },
     "execution_count": 98,
     "metadata": {},
     "output_type": "execute_result"
    }
   ],
   "source": [
    "s4.rstrip()"
   ]
  },
  {
   "cell_type": "code",
   "execution_count": 107,
   "id": "5052de50",
   "metadata": {},
   "outputs": [
    {
     "data": {
      "text/plain": [
       "'----  Shahaazad   Ahmed  -----'"
      ]
     },
     "execution_count": 107,
     "metadata": {},
     "output_type": "execute_result"
    }
   ],
   "source": [
    "s4.center(30,\"-\")"
   ]
  },
  {
   "cell_type": "code",
   "execution_count": 101,
   "id": "494f62b8",
   "metadata": {},
   "outputs": [],
   "source": [
    "s5=\"Ram\""
   ]
  },
  {
   "cell_type": "code",
   "execution_count": 108,
   "id": "b8e3fe85",
   "metadata": {},
   "outputs": [
    {
     "data": {
      "text/plain": [
       "'********Ram*********'"
      ]
     },
     "execution_count": 108,
     "metadata": {},
     "output_type": "execute_result"
    }
   ],
   "source": [
    "s5.center(20,\"*\")"
   ]
  },
  {
   "cell_type": "code",
   "execution_count": 109,
   "id": "6c2a309f",
   "metadata": {},
   "outputs": [],
   "source": [
    "s6=\" Sreekar Satya\""
   ]
  },
  {
   "cell_type": "code",
   "execution_count": 111,
   "id": "77e03a61",
   "metadata": {},
   "outputs": [
    {
     "data": {
      "text/plain": [
       "'### Sreekar Satya###'"
      ]
     },
     "execution_count": 111,
     "metadata": {},
     "output_type": "execute_result"
    }
   ],
   "source": [
    "s6.center(20,\"#\")"
   ]
  },
  {
   "cell_type": "code",
   "execution_count": 113,
   "id": "646dd051",
   "metadata": {},
   "outputs": [
    {
     "data": {
      "text/plain": [
       "'*'"
      ]
     },
     "execution_count": 113,
     "metadata": {},
     "output_type": "execute_result"
    }
   ],
   "source": [
    "s6.join(\"*\")"
   ]
  },
  {
   "cell_type": "code",
   "execution_count": 114,
   "id": "184884a2",
   "metadata": {},
   "outputs": [
    {
     "data": {
      "text/plain": [
       "' *S*r*e*e*k*a*r* *S*a*t*y*a'"
      ]
     },
     "execution_count": 114,
     "metadata": {},
     "output_type": "execute_result"
    }
   ],
   "source": [
    "\"*\".join(s6)"
   ]
  },
  {
   "cell_type": "code",
   "execution_count": 9,
   "id": "a5e7998f",
   "metadata": {},
   "outputs": [],
   "source": [
    "M1= \"try to split a string after conversion of entire string in uppercase.\""
   ]
  },
  {
   "cell_type": "code",
   "execution_count": 7,
   "id": "c2f91a40",
   "metadata": {},
   "outputs": [
    {
     "data": {
      "text/plain": [
       "'try to split a string after conversion of entire string in uppercase.'"
      ]
     },
     "execution_count": 7,
     "metadata": {},
     "output_type": "execute_result"
    }
   ],
   "source": [
    "M1.lower()"
   ]
  },
  {
   "cell_type": "markdown",
   "id": "225c618e",
   "metadata": {},
   "source": [
    "M1.capitalize()"
   ]
  },
  {
   "cell_type": "code",
   "execution_count": 14,
   "id": "a0173b12",
   "metadata": {},
   "outputs": [
    {
     "data": {
      "text/plain": [
       "['TRY',\n",
       " 'TO',\n",
       " 'SPLIT',\n",
       " 'A',\n",
       " 'STRING',\n",
       " 'AFTER',\n",
       " 'CONVERSION',\n",
       " 'OF',\n",
       " 'ENTIRE',\n",
       " 'STRING',\n",
       " 'IN',\n",
       " 'UPPERCASE.']"
      ]
     },
     "execution_count": 14,
     "metadata": {},
     "output_type": "execute_result"
    }
   ],
   "source": [
    "M1.upper().split()"
   ]
  },
  {
   "cell_type": "code",
   "execution_count": 12,
   "id": "dfa650f2",
   "metadata": {},
   "outputs": [
    {
     "data": {
      "text/plain": [
       "['try to split a stri',\n",
       " 'g after co',\n",
       " 'versio',\n",
       " ' of e',\n",
       " 'tire stri',\n",
       " 'g i',\n",
       " ' uppercase.']"
      ]
     },
     "execution_count": 12,
     "metadata": {},
     "output_type": "execute_result"
    }
   ],
   "source": [
    "M1.split(\"n\")"
   ]
  },
  {
   "cell_type": "code",
   "execution_count": 15,
   "id": "7c8b2b08",
   "metadata": {},
   "outputs": [
    {
     "data": {
      "text/plain": [
       "False"
      ]
     },
     "execution_count": 15,
     "metadata": {},
     "output_type": "execute_result"
    }
   ],
   "source": [
    "M1.isalpha()"
   ]
  },
  {
   "cell_type": "code",
   "execution_count": 16,
   "id": "6f3022f8",
   "metadata": {},
   "outputs": [],
   "source": [
    "M2=\"Manjunadha\""
   ]
  },
  {
   "cell_type": "code",
   "execution_count": 17,
   "id": "77f312dd",
   "metadata": {},
   "outputs": [
    {
     "data": {
      "text/plain": [
       "True"
      ]
     },
     "execution_count": 17,
     "metadata": {},
     "output_type": "execute_result"
    }
   ],
   "source": [
    "M2.isalpha()"
   ]
  },
  {
   "cell_type": "code",
   "execution_count": 19,
   "id": "724b388d",
   "metadata": {},
   "outputs": [],
   "source": [
    "M3=\"Manju@123\""
   ]
  },
  {
   "cell_type": "code",
   "execution_count": 21,
   "id": "6cf89b33",
   "metadata": {},
   "outputs": [
    {
     "data": {
      "text/plain": [
       "False"
      ]
     },
     "execution_count": 21,
     "metadata": {},
     "output_type": "execute_result"
    }
   ],
   "source": [
    "M3.isalnum()"
   ]
  },
  {
   "cell_type": "code",
   "execution_count": 22,
   "id": "11f3adf7",
   "metadata": {},
   "outputs": [],
   "source": [
    "M4=\"Manju\""
   ]
  },
  {
   "cell_type": "code",
   "execution_count": 23,
   "id": "9e0c9a37",
   "metadata": {},
   "outputs": [
    {
     "data": {
      "text/plain": [
       "True"
      ]
     },
     "execution_count": 23,
     "metadata": {},
     "output_type": "execute_result"
    }
   ],
   "source": [
    "M4.isalnum()"
   ]
  },
  {
   "cell_type": "code",
   "execution_count": 25,
   "id": "b13c79a8",
   "metadata": {},
   "outputs": [
    {
     "data": {
      "text/plain": [
       "'try to split a string after conversion of entire string in uppercase.'"
      ]
     },
     "execution_count": 25,
     "metadata": {},
     "output_type": "execute_result"
    }
   ],
   "source": [
    "M1.strip()        "
   ]
  },
  {
   "cell_type": "code",
   "execution_count": 26,
   "id": "ee582585",
   "metadata": {},
   "outputs": [
    {
     "data": {
      "text/plain": [
       "'try to split a string after conversion of entire string in uppercase.'"
      ]
     },
     "execution_count": 26,
     "metadata": {},
     "output_type": "execute_result"
    }
   ],
   "source": [
    "M1.lstrip()"
   ]
  },
  {
   "cell_type": "code",
   "execution_count": 27,
   "id": "9c449baa",
   "metadata": {},
   "outputs": [
    {
     "data": {
      "text/plain": [
       "'try to split a string after conversion of entire string in uppercase.'"
      ]
     },
     "execution_count": 27,
     "metadata": {},
     "output_type": "execute_result"
    }
   ],
   "source": [
    "M1.rstrip()"
   ]
  },
  {
   "cell_type": "code",
   "execution_count": 37,
   "id": "5c01df84",
   "metadata": {},
   "outputs": [],
   "source": [
    "M5=\"Manju\\tnadha\""
   ]
  },
  {
   "cell_type": "code",
   "execution_count": 29,
   "id": "8f79d4ab",
   "metadata": {},
   "outputs": [
    {
     "data": {
      "text/plain": [
       "'Manju nadha'"
      ]
     },
     "execution_count": 29,
     "metadata": {},
     "output_type": "execute_result"
    }
   ],
   "source": [
    "M5.expandtabs(2)"
   ]
  },
  {
   "cell_type": "code",
   "execution_count": 38,
   "id": "242e3120",
   "metadata": {},
   "outputs": [
    {
     "data": {
      "text/plain": [
       "'Manju\\tnadha'"
      ]
     },
     "execution_count": 38,
     "metadata": {},
     "output_type": "execute_result"
    }
   ],
   "source": [
    "M5"
   ]
  },
  {
   "cell_type": "code",
   "execution_count": 43,
   "id": "e14c726a",
   "metadata": {},
   "outputs": [],
   "source": [
    "M6=\"Manjunadha was studying B-Tech 2nd his  Name is Manjunadha\""
   ]
  },
  {
   "cell_type": "code",
   "execution_count": 44,
   "id": "dffa5d50",
   "metadata": {},
   "outputs": [
    {
     "data": {
      "text/plain": [
       "'Pawan was studying B-Tech 2nd his  Name is Pawan'"
      ]
     },
     "execution_count": 44,
     "metadata": {},
     "output_type": "execute_result"
    }
   ],
   "source": [
    "M6.replace(\"Manjunadha\",\"Pawan\")"
   ]
  },
  {
   "cell_type": "code",
   "execution_count": 45,
   "id": "581be048",
   "metadata": {},
   "outputs": [
    {
     "data": {
      "text/plain": [
       "'Pawan was studying B-Tech 2nd his  Name is Manjunadha'"
      ]
     },
     "execution_count": 45,
     "metadata": {},
     "output_type": "execute_result"
    }
   ],
   "source": [
    "M6.replace(\"Manjunadha\",\"Pawan\",1)"
   ]
  },
  {
   "cell_type": "code",
   "execution_count": 50,
   "id": "01a0adc2",
   "metadata": {},
   "outputs": [
    {
     "data": {
      "text/plain": [
       "'Pawan was studying B-Tech 2nd his  Name is Pawan'"
      ]
     },
     "execution_count": 50,
     "metadata": {},
     "output_type": "execute_result"
    }
   ],
   "source": [
    "M6.replace(\"Manjunadha\",\"Pawan\",2)"
   ]
  },
  {
   "cell_type": "code",
   "execution_count": 51,
   "id": "5a2b2a0e",
   "metadata": {},
   "outputs": [
    {
     "data": {
      "text/plain": [
       "'Pawan was studying B-Tech 2nd his  Name is Pawan'"
      ]
     },
     "execution_count": 51,
     "metadata": {},
     "output_type": "execute_result"
    }
   ],
   "source": [
    "M6.replace(\"Manjunadha\",\"Pawan\",3)"
   ]
  },
  {
   "cell_type": "code",
   "execution_count": 54,
   "id": "2e16270a",
   "metadata": {},
   "outputs": [
    {
     "data": {
      "text/plain": [
       "'*********************Manjunadha was studying B-Tech 2nd his  Name is Manjunadha*********************'"
      ]
     },
     "execution_count": 54,
     "metadata": {},
     "output_type": "execute_result"
    }
   ],
   "source": [
    "M6.center(100,\"*\")"
   ]
  },
  {
   "cell_type": "code",
   "execution_count": null,
   "id": "2829e6f7",
   "metadata": {},
   "outputs": [],
   "source": []
  }
 ],
 "metadata": {
  "kernelspec": {
   "display_name": "Python 3 (ipykernel)",
   "language": "python",
   "name": "python3"
  },
  "language_info": {
   "codemirror_mode": {
    "name": "ipython",
    "version": 3
   },
   "file_extension": ".py",
   "mimetype": "text/x-python",
   "name": "python",
   "nbconvert_exporter": "python",
   "pygments_lexer": "ipython3",
   "version": "3.9.12"
  }
 },
 "nbformat": 4,
 "nbformat_minor": 5
}
